{
 "cells": [
  {
   "cell_type": "code",
   "execution_count": 1,
   "metadata": {
    "executionInfo": {
     "elapsed": 2946,
     "status": "ok",
     "timestamp": 1617475195122,
     "user": {
      "displayName": "M. Asfandyar Khan",
      "photoUrl": "https://lh3.googleusercontent.com/a-/AOh14GjTOyafaXC2jqNc-a7V0r7-s7py5wGafYqB5IQQSw=s64",
      "userId": "06165103249794927379"
     },
     "user_tz": -300
    },
    "id": "3Qw3oJzqBfUP"
   },
   "outputs": [],
   "source": [
    "# Dataset (Dropbox) :https://www.dropbox.com/s/1hz4o1y7g7q7tdi/CovidDataset-20200427T133042Z-001.zip?dl=0"
   ]
  },
  {
   "cell_type": "code",
   "execution_count": 2,
   "metadata": {
    "colab": {
     "base_uri": "https://localhost:8080/"
    },
    "executionInfo": {
     "elapsed": 4556,
     "status": "ok",
     "timestamp": 1617483850124,
     "user": {
      "displayName": "M. Asfandyar Khan",
      "photoUrl": "https://lh3.googleusercontent.com/a-/AOh14GjTOyafaXC2jqNc-a7V0r7-s7py5wGafYqB5IQQSw=s64",
      "userId": "06165103249794927379"
     },
     "user_tz": -300
    },
    "id": "CiYeajt-CI6L",
    "outputId": "75c75831-6473-4be0-8944-35f94a08663b"
   },
   "outputs": [],
   "source": [
    "#!wget https://www.dropbox.com/s/1hz4o1y7g7q7tdi/CovidDataset-20200427T133042Z-001.zip?dl=0"
   ]
  },
  {
   "cell_type": "code",
   "execution_count": 3,
   "metadata": {
    "executionInfo": {
     "elapsed": 926,
     "status": "ok",
     "timestamp": 1617484229552,
     "user": {
      "displayName": "M. Asfandyar Khan",
      "photoUrl": "https://lh3.googleusercontent.com/a-/AOh14GjTOyafaXC2jqNc-a7V0r7-s7py5wGafYqB5IQQSw=s64",
      "userId": "06165103249794927379"
     },
     "user_tz": -300
    },
    "id": "mk7M_itNCcta"
   },
   "outputs": [],
   "source": [
    "#!unzip CovidDataset.zip"
   ]
  },
  {
   "cell_type": "code",
   "execution_count": 4,
   "metadata": {
    "executionInfo": {
     "elapsed": 1173,
     "status": "ok",
     "timestamp": 1617488662319,
     "user": {
      "displayName": "M. Asfandyar Khan",
      "photoUrl": "https://lh3.googleusercontent.com/a-/AOh14GjTOyafaXC2jqNc-a7V0r7-s7py5wGafYqB5IQQSw=s64",
      "userId": "06165103249794927379"
     },
     "user_tz": -300
    },
    "id": "5f0vhf_2M5LT"
   },
   "outputs": [],
   "source": [
    "TRAIN_PATH = \"CovidDataset/Train\"\n",
    "VAL_PATH = \"CovidDataset/Val\"\n"
   ]
  },
  {
   "cell_type": "code",
   "execution_count": 5,
   "metadata": {
    "executionInfo": {
     "elapsed": 907,
     "status": "ok",
     "timestamp": 1617488665540,
     "user": {
      "displayName": "M. Asfandyar Khan",
      "photoUrl": "https://lh3.googleusercontent.com/a-/AOh14GjTOyafaXC2jqNc-a7V0r7-s7py5wGafYqB5IQQSw=s64",
      "userId": "06165103249794927379"
     },
     "user_tz": -300
    },
    "id": "XLkttXxdkTqc"
   },
   "outputs": [],
   "source": [
    "#Importing Kiras & its Libraries for Neural Network \n",
    "import numpy as np\n",
    "import matplotlib.pyplot as plt\n",
    "import keras\n",
    "from keras.layers import *\n",
    "from keras.models import *\n",
    "from keras.preprocessing import image"
   ]
  },
  {
   "cell_type": "code",
   "execution_count": 6,
   "metadata": {
    "executionInfo": {
     "elapsed": 983,
     "status": "ok",
     "timestamp": 1617488668881,
     "user": {
      "displayName": "M. Asfandyar Khan",
      "photoUrl": "https://lh3.googleusercontent.com/a-/AOh14GjTOyafaXC2jqNc-a7V0r7-s7py5wGafYqB5IQQSw=s64",
      "userId": "06165103249794927379"
     },
     "user_tz": -300
    },
    "id": "1ABbNUEQmClo"
   },
   "outputs": [],
   "source": [
    "# Now Bulding CNN Based Model In Keras (Building Layer By Layer)\n",
    "# 3 or 4 CNN Layers Followed By Classification Layer\n",
    "\n",
    "#Keeping the number of filters very small in the first layer\n",
    "#Since 1st layer detects simple features of the Image\n",
    "model = Sequential()\n",
    "model.add(Conv2D(32,kernel_size=(3,3),activation='relu',input_shape=(434,434,3))) # 217 + 217\n",
    "model.add(Conv2D(64,(3,3),activation='relu'))\n",
    "model.add(MaxPooling2D(pool_size=(2,2)))\n",
    "model.add(Dropout(0.25))\n",
    "\n",
    "model.add(Conv2D(64,(3,3),activation='relu'))\n",
    "model.add(MaxPooling2D(pool_size=(2,2)))\n",
    "model.add(Dropout(0.25))\n",
    "\n",
    "model.add(Conv2D(128,(3,3),activation='relu'))\n",
    "model.add(MaxPooling2D(pool_size=(2,2)))\n",
    "model.add(Dropout(0.25))\n",
    "\n",
    "model.add(Flatten())\n",
    "model.add(Dense(64,activation='relu'))\n",
    "model.add(Dropout(0.5))\n",
    "model.add(Dense(1,activation='sigmoid'))\n",
    "\n",
    "model.compile(loss=keras.losses.binary_crossentropy,optimizer='adam',metrics=['accuracy'])"
   ]
  },
  {
   "cell_type": "code",
   "execution_count": 7,
   "metadata": {
    "colab": {
     "base_uri": "https://localhost:8080/"
    },
    "executionInfo": {
     "elapsed": 985,
     "status": "ok",
     "timestamp": 1617488672731,
     "user": {
      "displayName": "M. Asfandyar Khan",
      "photoUrl": "https://lh3.googleusercontent.com/a-/AOh14GjTOyafaXC2jqNc-a7V0r7-s7py5wGafYqB5IQQSw=s64",
      "userId": "06165103249794927379"
     },
     "user_tz": -300
    },
    "id": "OF0W9Z7etKMW",
    "outputId": "ef16eda9-e514-4a31-da11-4bf2b537f1e7"
   },
   "outputs": [
    {
     "name": "stdout",
     "output_type": "stream",
     "text": [
      "Model: \"sequential\"\n",
      "_________________________________________________________________\n",
      "Layer (type)                 Output Shape              Param #   \n",
      "=================================================================\n",
      "conv2d (Conv2D)              (None, 432, 432, 32)      896       \n",
      "_________________________________________________________________\n",
      "conv2d_1 (Conv2D)            (None, 430, 430, 64)      18496     \n",
      "_________________________________________________________________\n",
      "max_pooling2d (MaxPooling2D) (None, 215, 215, 64)      0         \n",
      "_________________________________________________________________\n",
      "dropout (Dropout)            (None, 215, 215, 64)      0         \n",
      "_________________________________________________________________\n",
      "conv2d_2 (Conv2D)            (None, 213, 213, 64)      36928     \n",
      "_________________________________________________________________\n",
      "max_pooling2d_1 (MaxPooling2 (None, 106, 106, 64)      0         \n",
      "_________________________________________________________________\n",
      "dropout_1 (Dropout)          (None, 106, 106, 64)      0         \n",
      "_________________________________________________________________\n",
      "conv2d_3 (Conv2D)            (None, 104, 104, 128)     73856     \n",
      "_________________________________________________________________\n",
      "max_pooling2d_2 (MaxPooling2 (None, 52, 52, 128)       0         \n",
      "_________________________________________________________________\n",
      "dropout_2 (Dropout)          (None, 52, 52, 128)       0         \n",
      "_________________________________________________________________\n",
      "flatten (Flatten)            (None, 346112)            0         \n",
      "_________________________________________________________________\n",
      "dense (Dense)                (None, 64)                22151232  \n",
      "_________________________________________________________________\n",
      "dropout_3 (Dropout)          (None, 64)                0         \n",
      "_________________________________________________________________\n",
      "dense_1 (Dense)              (None, 1)                 65        \n",
      "=================================================================\n",
      "Total params: 22,281,473\n",
      "Trainable params: 22,281,473\n",
      "Non-trainable params: 0\n",
      "_________________________________________________________________\n"
     ]
    }
   ],
   "source": [
    "model.summary()"
   ]
  },
  {
   "cell_type": "code",
   "execution_count": 8,
   "metadata": {
    "executionInfo": {
     "elapsed": 932,
     "status": "ok",
     "timestamp": 1617488685263,
     "user": {
      "displayName": "M. Asfandyar Khan",
      "photoUrl": "https://lh3.googleusercontent.com/a-/AOh14GjTOyafaXC2jqNc-a7V0r7-s7py5wGafYqB5IQQSw=s64",
      "userId": "06165103249794927379"
     },
     "user_tz": -300
    },
    "id": "wnRzev1ouVp9"
   },
   "outputs": [],
   "source": [
    "#There are total of 2.2 cror param in our model\n",
    "# Now We Will Train Our Model From Scratch # Using Keras ImageGenerator Library, and make the data ready for CNN Model\n",
    "\n",
    " #Now Doing Some Augmentation on the Original Image (Making Data Ready for Model)\n",
    "train_datagen = image.ImageDataGenerator(\n",
    "    rescale = 1./255,\n",
    "    shear_range = 0.2,\n",
    "    zoom_range = 0.2,\n",
    "    horizontal_flip = True,\n",
    ")\n",
    "\n",
    "test_dataset = image.ImageDataGenerator(rescale=1./255)\n"
   ]
  },
  {
   "cell_type": "code",
   "execution_count": 9,
   "metadata": {
    "colab": {
     "base_uri": "https://localhost:8080/"
    },
    "executionInfo": {
     "elapsed": 922,
     "status": "ok",
     "timestamp": 1617488730235,
     "user": {
      "displayName": "M. Asfandyar Khan",
      "photoUrl": "https://lh3.googleusercontent.com/a-/AOh14GjTOyafaXC2jqNc-a7V0r7-s7py5wGafYqB5IQQSw=s64",
      "userId": "06165103249794927379"
     },
     "user_tz": -300
    },
    "id": "XC23eBqsviop",
    "outputId": "bbad57b9-d984-4835-fdac-96bdd1b8c268"
   },
   "outputs": [
    {
     "name": "stdout",
     "output_type": "stream",
     "text": [
      "Found 434 images belonging to 2 classes.\n"
     ]
    }
   ],
   "source": [
    "# Builting Train Data Generator Actual Function\n",
    "train_generator = train_datagen.flow_from_directory(\n",
    "    'CovidDataset/Train',\n",
    "    target_size = (434, 434),\n",
    "    batch_size = 32,\n",
    "    class_mode = 'binary'  \n",
    ")\n"
   ]
  },
  {
   "cell_type": "code",
   "execution_count": 10,
   "metadata": {
    "colab": {
     "base_uri": "https://localhost:8080/"
    },
    "executionInfo": {
     "elapsed": 1288,
     "status": "ok",
     "timestamp": 1617488732254,
     "user": {
      "displayName": "M. Asfandyar Khan",
      "photoUrl": "https://lh3.googleusercontent.com/a-/AOh14GjTOyafaXC2jqNc-a7V0r7-s7py5wGafYqB5IQQSw=s64",
      "userId": "06165103249794927379"
     },
     "user_tz": -300
    },
    "id": "kNdrHKtTySj0",
    "outputId": "bc63c5d2-db67-45b3-8bba-e8a47e18c39c"
   },
   "outputs": [
    {
     "data": {
      "text/plain": [
       "{'Covid': 0, 'Normal': 1}"
      ]
     },
     "execution_count": 10,
     "metadata": {},
     "output_type": "execute_result"
    }
   ],
   "source": [
    "train_generator.class_indices"
   ]
  },
  {
   "cell_type": "code",
   "execution_count": 11,
   "metadata": {
    "executionInfo": {
     "elapsed": 935,
     "status": "ok",
     "timestamp": 1617488734073,
     "user": {
      "displayName": "M. Asfandyar Khan",
      "photoUrl": "https://lh3.googleusercontent.com/a-/AOh14GjTOyafaXC2jqNc-a7V0r7-s7py5wGafYqB5IQQSw=s64",
      "userId": "06165103249794927379"
     },
     "user_tz": -300
    },
    "id": "CJUijUbhygPO"
   },
   "outputs": [],
   "source": [
    "# Now the data generator is ready and now we only need to train our model"
   ]
  },
  {
   "cell_type": "code",
   "execution_count": 12,
   "metadata": {
    "colab": {
     "base_uri": "https://localhost:8080/"
    },
    "executionInfo": {
     "elapsed": 927,
     "status": "ok",
     "timestamp": 1617488921603,
     "user": {
      "displayName": "M. Asfandyar Khan",
      "photoUrl": "https://lh3.googleusercontent.com/a-/AOh14GjTOyafaXC2jqNc-a7V0r7-s7py5wGafYqB5IQQSw=s64",
      "userId": "06165103249794927379"
     },
     "user_tz": -300
    },
    "id": "MQ4lhb4_zUhm",
    "outputId": "44caaf24-33ad-46df-dfcc-3eeba0680345"
   },
   "outputs": [
    {
     "name": "stdout",
     "output_type": "stream",
     "text": [
      "Found 60 images belonging to 2 classes.\n"
     ]
    }
   ],
   "source": [
    "# Builting Validation Data Generator Actual Function\n",
    "\n",
    "validation_generator = test_dataset.flow_from_directory(\n",
    "    'CovidDataset/Val',\n",
    "    target_size = (434, 434),\n",
    "    batch_size = 32,\n",
    "    class_mode = 'binary'  \n",
    "    \n",
    ")"
   ]
  },
  {
   "cell_type": "code",
   "execution_count": null,
   "metadata": {
    "colab": {
     "base_uri": "https://localhost:8080/"
    },
    "executionInfo": {
     "elapsed": 635942,
     "status": "ok",
     "timestamp": 1617491737684,
     "user": {
      "displayName": "M. Asfandyar Khan",
      "photoUrl": "https://lh3.googleusercontent.com/a-/AOh14GjTOyafaXC2jqNc-a7V0r7-s7py5wGafYqB5IQQSw=s64",
      "userId": "06165103249794927379"
     },
     "user_tz": -300
    },
    "id": "3YZ4jqb41267",
    "outputId": "33dad926-9975-45a1-81b2-55173ddcc8c7"
   },
   "outputs": [
    {
     "name": "stderr",
     "output_type": "stream",
     "text": [
      "/Users/asfandyarkhan/opt/anaconda3/lib/python3.8/site-packages/tensorflow/python/keras/engine/training.py:1844: UserWarning: `Model.fit_generator` is deprecated and will be removed in a future version. Please use `Model.fit`, which supports generators.\n",
      "  warnings.warn('`Model.fit_generator` is deprecated and '\n"
     ]
    },
    {
     "name": "stdout",
     "output_type": "stream",
     "text": [
      "Epoch 1/12\n",
      "4/4 [==============================] - 88s 21s/step - loss: 14.7811 - accuracy: 0.4896 - val_loss: 0.7333 - val_accuracy: 0.5000\n",
      "Epoch 2/12\n",
      "4/4 [==============================] - 55s 14s/step - loss: 1.6752 - accuracy: 0.5073 - val_loss: 0.6998 - val_accuracy: 0.5000\n",
      "Epoch 3/12\n",
      "4/4 [==============================] - ETA: 0s - loss: 0.7154 - accuracy: 0.5566 "
     ]
    }
   ],
   "source": [
    "# Now we are calling Our Fit Generator for Learning\n",
    "hist = model.fit_generator(\n",
    "    train_generator,\n",
    "    steps_per_epoch=4,\n",
    "    epochs = 12,\n",
    "    validation_data = validation_generator,\n",
    "    validation_steps=2\n",
    ")"
   ]
  },
  {
   "cell_type": "code",
   "execution_count": null,
   "metadata": {
    "executionInfo": {
     "elapsed": 1334,
     "status": "ok",
     "timestamp": 1617491739036,
     "user": {
      "displayName": "M. Asfandyar Khan",
      "photoUrl": "https://lh3.googleusercontent.com/a-/AOh14GjTOyafaXC2jqNc-a7V0r7-s7py5wGafYqB5IQQSw=s64",
      "userId": "06165103249794927379"
     },
     "user_tz": -300
    },
    "id": "kA183BFD4GeZ"
   },
   "outputs": [],
   "source": [
    "#Loss Is Very Less (Good Acuracy)"
   ]
  },
  {
   "cell_type": "code",
   "execution_count": null,
   "metadata": {
    "executionInfo": {
     "elapsed": 878,
     "status": "ok",
     "timestamp": 1617491790124,
     "user": {
      "displayName": "M. Asfandyar Khan",
      "photoUrl": "https://lh3.googleusercontent.com/a-/AOh14GjTOyafaXC2jqNc-a7V0r7-s7py5wGafYqB5IQQSw=s64",
      "userId": "06165103249794927379"
     },
     "user_tz": -300
    },
    "id": "RtAzOT8_Ag0R"
   },
   "outputs": [],
   "source": [
    "model.save(\"model_adv.h5\")"
   ]
  },
  {
   "cell_type": "code",
   "execution_count": null,
   "metadata": {
    "colab": {
     "base_uri": "https://localhost:8080/"
    },
    "executionInfo": {
     "elapsed": 8612,
     "status": "ok",
     "timestamp": 1617491922994,
     "user": {
      "displayName": "M. Asfandyar Khan",
      "photoUrl": "https://lh3.googleusercontent.com/a-/AOh14GjTOyafaXC2jqNc-a7V0r7-s7py5wGafYqB5IQQSw=s64",
      "userId": "06165103249794927379"
     },
     "user_tz": -300
    },
    "id": "qCNjrnEGBgV8",
    "outputId": "0a503b55-9799-4bc2-9ed0-016e9cbadbc2"
   },
   "outputs": [],
   "source": [
    "model.evaluate(train_generator)"
   ]
  },
  {
   "cell_type": "code",
   "execution_count": null,
   "metadata": {
    "colab": {
     "base_uri": "https://localhost:8080/"
    },
    "executionInfo": {
     "elapsed": 3687,
     "status": "ok",
     "timestamp": 1617492024271,
     "user": {
      "displayName": "M. Asfandyar Khan",
      "photoUrl": "https://lh3.googleusercontent.com/a-/AOh14GjTOyafaXC2jqNc-a7V0r7-s7py5wGafYqB5IQQSw=s64",
      "userId": "06165103249794927379"
     },
     "user_tz": -300
    },
    "id": "kxYhMgopBtC9",
    "outputId": "92866953-2425-49f7-a660-2c76bbc6e379"
   },
   "outputs": [],
   "source": [
    "model.evaluate(validation_generator)"
   ]
  },
  {
   "cell_type": "code",
   "execution_count": null,
   "metadata": {
    "executionInfo": {
     "elapsed": 1058,
     "status": "ok",
     "timestamp": 1617492060368,
     "user": {
      "displayName": "M. Asfandyar Khan",
      "photoUrl": "https://lh3.googleusercontent.com/a-/AOh14GjTOyafaXC2jqNc-a7V0r7-s7py5wGafYqB5IQQSw=s64",
      "userId": "06165103249794927379"
     },
     "user_tz": -300
    },
    "id": "NPnRBs2gCXF_"
   },
   "outputs": [],
   "source": [
    "# Test Images"
   ]
  },
  {
   "cell_type": "code",
   "execution_count": null,
   "metadata": {
    "executionInfo": {
     "elapsed": 1200,
     "status": "ok",
     "timestamp": 1617492094718,
     "user": {
      "displayName": "M. Asfandyar Khan",
      "photoUrl": "https://lh3.googleusercontent.com/a-/AOh14GjTOyafaXC2jqNc-a7V0r7-s7py5wGafYqB5IQQSw=s64",
      "userId": "06165103249794927379"
     },
     "user_tz": -300
    },
    "id": "V9IZbQu8CiSB"
   },
   "outputs": [],
   "source": [
    "model = load_model('model_adv.h5')"
   ]
  },
  {
   "cell_type": "code",
   "execution_count": null,
   "metadata": {
    "executionInfo": {
     "elapsed": 887,
     "status": "ok",
     "timestamp": 1617492102756,
     "user": {
      "displayName": "M. Asfandyar Khan",
      "photoUrl": "https://lh3.googleusercontent.com/a-/AOh14GjTOyafaXC2jqNc-a7V0r7-s7py5wGafYqB5IQQSw=s64",
      "userId": "06165103249794927379"
     },
     "user_tz": -300
    },
    "id": "RN_OtFHOCqoj"
   },
   "outputs": [],
   "source": [
    "import os"
   ]
  },
  {
   "cell_type": "code",
   "execution_count": null,
   "metadata": {
    "colab": {
     "base_uri": "https://localhost:8080/"
    },
    "executionInfo": {
     "elapsed": 1015,
     "status": "ok",
     "timestamp": 1617492122962,
     "user": {
      "displayName": "M. Asfandyar Khan",
      "photoUrl": "https://lh3.googleusercontent.com/a-/AOh14GjTOyafaXC2jqNc-a7V0r7-s7py5wGafYqB5IQQSw=s64",
      "userId": "06165103249794927379"
     },
     "user_tz": -300
    },
    "id": "jg1QgzqxCsq0",
    "outputId": "693e72c5-8d75-48fa-c82e-1b1cb1835636"
   },
   "outputs": [],
   "source": [
    "train_generator.class_indices"
   ]
  },
  {
   "cell_type": "code",
   "execution_count": null,
   "metadata": {
    "executionInfo": {
     "elapsed": 1324,
     "status": "ok",
     "timestamp": 1617493491230,
     "user": {
      "displayName": "M. Asfandyar Khan",
      "photoUrl": "https://lh3.googleusercontent.com/a-/AOh14GjTOyafaXC2jqNc-a7V0r7-s7py5wGafYqB5IQQSw=s64",
      "userId": "06165103249794927379"
     },
     "user_tz": -300
    },
    "id": "sZ1NZKFWCxkl"
   },
   "outputs": [],
   "source": [
    "y_actual = []\n",
    "y_test = []"
   ]
  },
  {
   "cell_type": "code",
   "execution_count": null,
   "metadata": {
    "colab": {
     "base_uri": "https://localhost:8080/"
    },
    "executionInfo": {
     "elapsed": 2600,
     "status": "ok",
     "timestamp": 1617493523369,
     "user": {
      "displayName": "M. Asfandyar Khan",
      "photoUrl": "https://lh3.googleusercontent.com/a-/AOh14GjTOyafaXC2jqNc-a7V0r7-s7py5wGafYqB5IQQSw=s64",
      "userId": "06165103249794927379"
     },
     "user_tz": -300
    },
    "id": "W5hxpzNlC6Hn",
    "outputId": "ad576d6e-99b2-4e12-bb48-9ace9ee47301"
   },
   "outputs": [],
   "source": [
    "for i in os.listdir(\"./CovidDataset/Val/Normal/\"):\n",
    "  img = image.load_img(\"./CovidDataset/Val/Normal/\"+i, target_size = (434,434))\n",
    "  img = image.img_to_array(img)\n",
    "  img = np.expand_dims(img, axis=0)\n",
    "  p = model.predict_classes(img)\n",
    "  y_test.append(p[0,0])\n",
    "  y_actual.append(1)"
   ]
  },
  {
   "cell_type": "code",
   "execution_count": null,
   "metadata": {
    "colab": {
     "base_uri": "https://localhost:8080/"
    },
    "executionInfo": {
     "elapsed": 3044,
     "status": "ok",
     "timestamp": 1617493530777,
     "user": {
      "displayName": "M. Asfandyar Khan",
      "photoUrl": "https://lh3.googleusercontent.com/a-/AOh14GjTOyafaXC2jqNc-a7V0r7-s7py5wGafYqB5IQQSw=s64",
      "userId": "06165103249794927379"
     },
     "user_tz": -300
    },
    "id": "s_UvtRz2EVh5",
    "outputId": "6f65fea9-44f3-4a98-9ea6-8057454294a1"
   },
   "outputs": [],
   "source": [
    "for i in os.listdir(\"./CovidDataset/Val/Covid/\"):\n",
    "  img = image.load_img(\"./CovidDataset/Val/Covid/\"+i, target_size = (434,434))\n",
    "  img = image.img_to_array(img)\n",
    "  img = np.expand_dims(img, axis=0)\n",
    "  p = model.predict_classes(img)\n",
    "  y_test.append(p[0,0])\n",
    "  y_actual.append(0)"
   ]
  },
  {
   "cell_type": "code",
   "execution_count": null,
   "metadata": {
    "executionInfo": {
     "elapsed": 1150,
     "status": "ok",
     "timestamp": 1617493535843,
     "user": {
      "displayName": "M. Asfandyar Khan",
      "photoUrl": "https://lh3.googleusercontent.com/a-/AOh14GjTOyafaXC2jqNc-a7V0r7-s7py5wGafYqB5IQQSw=s64",
      "userId": "06165103249794927379"
     },
     "user_tz": -300
    },
    "id": "x9lJx5xaFZtR"
   },
   "outputs": [],
   "source": [
    "y_actual = np.array(y_actual)\n",
    "y_test = np.array(y_test)"
   ]
  },
  {
   "cell_type": "code",
   "execution_count": null,
   "metadata": {
    "executionInfo": {
     "elapsed": 896,
     "status": "ok",
     "timestamp": 1617493538251,
     "user": {
      "displayName": "M. Asfandyar Khan",
      "photoUrl": "https://lh3.googleusercontent.com/a-/AOh14GjTOyafaXC2jqNc-a7V0r7-s7py5wGafYqB5IQQSw=s64",
      "userId": "06165103249794927379"
     },
     "user_tz": -300
    },
    "id": "Cl6gGRQJFl61"
   },
   "outputs": [],
   "source": [
    "from sklearn.metrics import confusion_matrix"
   ]
  },
  {
   "cell_type": "code",
   "execution_count": null,
   "metadata": {
    "executionInfo": {
     "elapsed": 1022,
     "status": "ok",
     "timestamp": 1617493540620,
     "user": {
      "displayName": "M. Asfandyar Khan",
      "photoUrl": "https://lh3.googleusercontent.com/a-/AOh14GjTOyafaXC2jqNc-a7V0r7-s7py5wGafYqB5IQQSw=s64",
      "userId": "06165103249794927379"
     },
     "user_tz": -300
    },
    "id": "tYWicoEvFrFT"
   },
   "outputs": [],
   "source": [
    "cm = confusion_matrix(y_actual, y_test)"
   ]
  },
  {
   "cell_type": "code",
   "execution_count": null,
   "metadata": {
    "executionInfo": {
     "elapsed": 1088,
     "status": "ok",
     "timestamp": 1617493562154,
     "user": {
      "displayName": "M. Asfandyar Khan",
      "photoUrl": "https://lh3.googleusercontent.com/a-/AOh14GjTOyafaXC2jqNc-a7V0r7-s7py5wGafYqB5IQQSw=s64",
      "userId": "06165103249794927379"
     },
     "user_tz": -300
    },
    "id": "MZraBosfFwNf"
   },
   "outputs": [],
   "source": [
    "import seaborn as sns"
   ]
  },
  {
   "cell_type": "code",
   "execution_count": null,
   "metadata": {
    "colab": {
     "base_uri": "https://localhost:8080/",
     "height": 232
    },
    "executionInfo": {
     "elapsed": 2759,
     "status": "error",
     "timestamp": 1617536468998,
     "user": {
      "displayName": "M. Asfandyar Khan",
      "photoUrl": "https://lh3.googleusercontent.com/a-/AOh14GjTOyafaXC2jqNc-a7V0r7-s7py5wGafYqB5IQQSw=s64",
      "userId": "06165103249794927379"
     },
     "user_tz": -300
    },
    "id": "h5UDNRm0IQ6k",
    "outputId": "ce8ac0aa-642b-49ba-86a0-85999c217bff"
   },
   "outputs": [],
   "source": [
    "labels = ['COVID-19', 'NORMAL']\n",
    "plt.figure(figsize = (10,10))\n",
    "\n",
    "sns.heatmap(cm, cmap = \"plasma\", annot=True, fmt='',xticklabels = labels,yticklabels = labels)"
   ]
  },
  {
   "cell_type": "code",
   "execution_count": null,
   "metadata": {
    "id": "XMc5QAzhIsYw"
   },
   "outputs": [],
   "source": []
  },
  {
   "cell_type": "code",
   "execution_count": null,
   "metadata": {},
   "outputs": [],
   "source": []
  }
 ],
 "metadata": {
  "accelerator": "GPU",
  "colab": {
   "authorship_tag": "ABX9TyNIjvvBW6bY7M2t1dCWCCjM",
   "collapsed_sections": [],
   "name": "CNN (COVID_19).ipynb",
   "provenance": []
  },
  "kernelspec": {
   "display_name": "Python 3",
   "language": "python",
   "name": "python3"
  },
  "language_info": {
   "codemirror_mode": {
    "name": "ipython",
    "version": 3
   },
   "file_extension": ".py",
   "mimetype": "text/x-python",
   "name": "python",
   "nbconvert_exporter": "python",
   "pygments_lexer": "ipython3",
   "version": "3.8.5"
  }
 },
 "nbformat": 4,
 "nbformat_minor": 1
}
